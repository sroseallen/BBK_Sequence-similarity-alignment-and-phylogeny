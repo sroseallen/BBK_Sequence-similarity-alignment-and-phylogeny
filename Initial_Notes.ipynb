{
 "cells": [
  {
   "attachments": {},
   "cell_type": "markdown",
   "metadata": {},
   "source": [
    "Dog Breeds - Coursework Project Notes"
   ]
  },
  {
   "attachments": {},
   "cell_type": "markdown",
   "metadata": {},
   "source": [
    "The task:\n",
    "Developing an DNA identification service\n",
    "Identify the closest sequence in the database to the provided service\n",
    "Input: Sequence database (adapted from GEO), Test Sequence\n",
    "Output: The closest sequence in the database and the difference between it and the test sequence\n",
    "Stretch goal 1: Probabilities between test and database sequences (p-value)\n",
    "Stretch goal 2: Reconstructured phylogeny for the test sequence against the sequences in the database"
   ]
  },
  {
   "attachments": {},
   "cell_type": "markdown",
   "metadata": {},
   "source": [
    "Packages needed: Biopython (Bio.seq, Bio.phylo), scipy, pandas, matplotlib (potentially)"
   ]
  },
  {
   "attachments": {},
   "cell_type": "markdown",
   "metadata": {},
   "source": [
    "STEPS"
   ]
  },
  {
   "attachments": {},
   "cell_type": "markdown",
   "metadata": {},
   "source": [
    "1) Look up BioPython documentation. See what might be most useful to have in this project."
   ]
  },
  {
   "attachments": {},
   "cell_type": "markdown",
   "metadata": {},
   "source": [
    "2. Output 1 will need to be able to read in fasta files (test seq and the database seqs), and have a way to read through each nucleotide in the mystery sequence. Each nucleotide in the sequence at index 0 will need to be compared to each index 0 nucleotide in the database, and scored based on similarity (either a binary 1/0 for exact match, or a 2/1/0 for exact match/base type match eg pyramidine/pyramidine match, and no type match). Essentially, encode each database sequence into a 'matchlist' for the mystery sequence. Then, highest scoring sequence in the matchlist is the most similar to the test sequence, and output the sequence + similarity score (maybe a percentage similarity?)"
   ]
  },
  {
   "attachments": {},
   "cell_type": "markdown",
   "metadata": {},
   "source": [
    "Above step assumes the sequences are the same length, and are nucleotide sequences. Needs a test for the same length (if any gaps, add gaps to match the max length of the two, and each gap scores a 0 in the matchlist). Also a test that the sequences only contain ACTG. "
   ]
  },
  {
   "attachments": {},
   "cell_type": "markdown",
   "metadata": {},
   "source": [
    "For this step: Will definitely need a conversion function to get the binary matchlists, and a function to compare binary matchlists to give a 'similarity score'. Or find something that works in BioPython (a similarity function) which I can loop through for the mystery sequence vs every sequence in database, but want to try my idea first."
   ]
  },
  {
   "attachments": {},
   "cell_type": "markdown",
   "metadata": {},
   "source": [
    "This also assumes each sequence has the same start (ie both sequences start at index 0). If the mystery sequence is a different length, maybe use a function similar to the one used for exam 2, and alter the reading frame for the mystery sequence - ie have a matchlist for sequence 1 starting at index 0, then index 1, etc., score the highest sequence for each, and select the highest scorer as the 'best match' for sequence 1. Repeat for all sequences in database, and then output the highest similarity for the sequences (so you get the best individual match for each sequence, and rank the best individual matches against each other until you have a winner/most similar)"
   ]
  },
  {
   "attachments": {},
   "cell_type": "markdown",
   "metadata": {},
   "source": [
    "The first output will be a file containing details of the most similar sequence in the database (the breed, fasta file information, maybe a stretch goal to link to a website with further information about the breed?)"
   ]
  },
  {
   "attachments": {},
   "cell_type": "markdown",
   "metadata": {},
   "source": [
    "2. The second output will be a dataframe containing the breed, and the p-values across different statistical tests (col each for pearson, spearman, and kendall-tau EDIT: these methods require two sets of data to compare, not one set of data and one lone piece of data as for comparisons here), sorted by the highest p-value average. Could also produce a plot with distribution of average p-value across the database with matplotlib?"
   ]
  },
  {
   "attachments": {},
   "cell_type": "markdown",
   "metadata": {},
   "source": [
    "NOTES ABOUT ALIGNMENT SIG SCORES:\n",
    "The Karlin-Altschul algorithm can be used for local alignments (generate an E value which can be coerced to make a p-value, same stats model that BLAST uses). However, this only holds true for local alignments - global alignments as far as I can tell are just 'random generation of same-length sequences and repeat alignments with these to see if any random alignment can match the alignment you have;. This would take a very long time, and as the mystery sequence is very similar to all the dog database sequences, would need many iterations of random sequences, and therefore wouldn't be feasible.\n",
    "https://academic.oup.com/bib/article/7/1/2/262762?login=false\n",
    "https://pubmed.ncbi.nlm.nih.gov/24400820/\n",
    "https://www.ncbi.nlm.nih.gov/BLAST/tutorial/Altschul-1.html\n",
    "http://borensteinlab.com/courses/GS_373_12_sp/slides/6A-significance_scores.pdf\n",
    "\n",
    "(Switch to local alignment? So i can use a robust statistical model to confirm alignment credibility?)"
   ]
  },
  {
   "attachments": {},
   "cell_type": "markdown",
   "metadata": {},
   "source": [
    "3. Will need to look into how to make a pylogeny chart and making this output look good, maybe the session 12 notebook? Session is on pandas, but gives some nice examples of phylogeny outputs that could be useful? Project README from Tristan suggests making a distance matrix, then constructing a tree, maybe using Bio.Phylo? "
   ]
  },
  {
   "attachments": {},
   "cell_type": "markdown",
   "metadata": {},
   "source": [
    "This output will be whatever the phylogeny tree comes out as - maybe a jpeg, png, or a graph. Ideally I would like to highlight the closest sequence in the tree (apparently per whatsapp the mustery sequence doesn't need to be in the tree, but I would like to have a tree without and a tree with the sequence included to showcase the difference)"
   ]
  }
 ],
 "metadata": {
  "kernelspec": {
   "display_name": "Python 3",
   "language": "python",
   "name": "python3"
  },
  "language_info": {
   "codemirror_mode": {
    "name": "ipython",
    "version": 3
   },
   "file_extension": ".py",
   "mimetype": "text/x-python",
   "name": "python",
   "nbconvert_exporter": "python",
   "pygments_lexer": "ipython3",
   "version": "3.11.1"
  },
  "orig_nbformat": 4,
  "vscode": {
   "interpreter": {
    "hash": "b22fdcb0537abff6689f894d3fe13d97d5f7172ea857a34acb2feebfcab40aac"
   }
  }
 },
 "nbformat": 4,
 "nbformat_minor": 2
}
