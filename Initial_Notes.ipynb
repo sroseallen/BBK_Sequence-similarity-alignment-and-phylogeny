{
 "cells": [
  {
   "attachments": {},
   "cell_type": "markdown",
   "metadata": {},
   "source": [
    "Dog Breeds - Coursework Project Notes"
   ]
  },
  {
   "attachments": {},
   "cell_type": "markdown",
   "metadata": {},
   "source": [
    "The task:\n",
    "Developing an DNA identification service\n",
    "Identify the closest sequence in the database to the provided service\n",
    "Input: Sequence database (adapted from GEO), Test Sequence\n",
    "Output: The closest sequence in the database and the difference between it and the test sequence\n",
    "Stretch goal 1: Probabilities between test and database sequences (p-value)\n",
    "Stretch goal 2: Reconstructured phylogeny for the test sequence against the sequences in the database"
   ]
  }
 ],
 "metadata": {
  "kernelspec": {
   "display_name": "Python 3",
   "language": "python",
   "name": "python3"
  },
  "language_info": {
   "codemirror_mode": {
    "name": "ipython",
    "version": 3
   },
   "file_extension": ".py",
   "mimetype": "text/x-python",
   "name": "python",
   "nbconvert_exporter": "python",
   "pygments_lexer": "ipython3",
   "version": "3.11.1"
  },
  "orig_nbformat": 4,
  "vscode": {
   "interpreter": {
    "hash": "b22fdcb0537abff6689f894d3fe13d97d5f7172ea857a34acb2feebfcab40aac"
   }
  }
 },
 "nbformat": 4,
 "nbformat_minor": 2
}
